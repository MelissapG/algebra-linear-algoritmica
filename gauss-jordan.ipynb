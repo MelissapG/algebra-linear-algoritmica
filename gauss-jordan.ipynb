{
 "cells": [
  {
   "cell_type": "code",
   "execution_count": 1,
   "metadata": {},
   "outputs": [],
   "source": [
    "import numpy as np"
   ]
  },
  {
   "cell_type": "code",
   "execution_count": 16,
   "metadata": {},
   "outputs": [],
   "source": [
    "A = [[1, 1, 1, 1], \n",
    "    [2, 2, 2, 2],\n",
    "    [1, 2, 3, 4]]"
   ]
  },
  {
   "cell_type": "code",
   "execution_count": 54,
   "metadata": {},
   "outputs": [],
   "source": [
    "def divide_linha_por_p(matrix, p, linha):\n",
    "  for coluna in range(len(matrix[0])):\n",
    "    matrix[linha][coluna] /= p"
   ]
  },
  {
   "cell_type": "code",
   "execution_count": null,
   "metadata": {},
   "outputs": [],
   "source": [
    "def zera_coluna(matrix, linha, coluna):\n",
    "  for linha in range(len(matrix)):\n",
    "    for coluna in range(len(matrix[0])):\n",
    "      # subtrai esse elemento pela multiplicacao do coef. "
   ]
  },
  {
   "cell_type": "code",
   "execution_count": null,
   "metadata": {},
   "outputs": [],
   "source": [
    "def troca_linha(matrix, linha1, linha2):\n",
    "  return"
   ]
  },
  {
   "cell_type": "code",
   "execution_count": null,
   "metadata": {},
   "outputs": [],
   "source": [
    "def gauss_jordan(matrix):\n",
    "  n_linhas = len(matrix)\n",
    "  n_colunas = len(matrix[0])\n",
    "  B = np.eye(len(A)) # dtype=int\n",
    "  C = matrix\n",
    "\n",
    "  linha, coluna = 0, 0\n",
    "\n",
    "  while(linha<=n_linhas and coluna<n_colunas):\n",
    "    for k in range (linha, n_linhas+1):\n",
    "      p = matrix[k][coluna]\n",
    "      if(p!=0):\n",
    "        divide_linha_por_p(C, p, linha)\n",
    "        zera_coluna()\n",
    "      else:\n",
    "        #\n",
    "        troca_linha()\n",
    "  return B, C"
   ]
  }
 ],
 "metadata": {
  "kernelspec": {
   "display_name": "Python 3.9.7 64-bit",
   "language": "python",
   "name": "python3"
  },
  "language_info": {
   "codemirror_mode": {
    "name": "ipython",
    "version": 3
   },
   "file_extension": ".py",
   "mimetype": "text/x-python",
   "name": "python",
   "nbconvert_exporter": "python",
   "pygments_lexer": "ipython3",
   "version": "3.9.7"
  },
  "orig_nbformat": 4,
  "vscode": {
   "interpreter": {
    "hash": "e078141f7f88033904c08970a854ee953ece92ad02b4ae16ef17d2f42bab3e9c"
   }
  }
 },
 "nbformat": 4,
 "nbformat_minor": 2
}
